{
 "cells": [
  {
   "cell_type": "code",
   "execution_count": 1,
   "metadata": {},
   "outputs": [],
   "source": [
    "# to do : define a function to assess AMD stability as a function of companion properties!\n",
    "# to do : make sure it always chooses the solution(s) of x that are within 0,1"
   ]
  },
  {
   "cell_type": "code",
   "execution_count": 2,
   "metadata": {},
   "outputs": [],
   "source": [
    "import pickle\n",
    "from scipy.optimize import minimize"
   ]
  },
  {
   "cell_type": "code",
   "execution_count": 3,
   "metadata": {},
   "outputs": [
    {
     "name": "stdout",
     "output_type": "stream",
     "text": [
      "P~756 days:\n",
      "parameter                     value      vary\n",
      "per1                        31.5786      False\n",
      "tc1                         13.7689      False\n",
      "secosw1                    0.581085      False\n",
      "sesinw1                    0.690174      False\n",
      "k1                             16.7      False\n",
      "per2                        808.057       True\n",
      "tc2                         1379.41       True\n",
      "secosw2                    0.275457       True\n",
      "sesinw2                    0.556285       True\n",
      "k2                          4.89171       True\n",
      "dvdt                              0      False\n",
      "curv                              0      False\n",
      "gamma_j                     1.25338       True\n",
      "jit_j                       2.88214       True\n",
      "tp1                         13.5428           \n",
      "e1                            0.814           \n",
      "w1                            0.871           \n",
      "tp2                         1354.71           \n",
      "e2                          0.38533           \n",
      "w2                          1.11102           \n",
      "\n",
      "Priors\n",
      "------\n",
      "e1 constrained to be < 0.99\n",
      "e2 constrained to be < 0.99\n",
      "K constrained to be > 0\n",
      "Bounded prior on jit_j, min=0.0, max=10.0\n",
      "Gaussian prior on per1, mu=756, sigma=250\n",
      "\n",
      "P~1632 days:\n",
      "parameter                     value      vary\n",
      "per1                        31.5786      False\n",
      "tc1                         13.7689      False\n",
      "secosw1                    0.581085      False\n",
      "sesinw1                    0.690174      False\n",
      "k1                             16.7      False\n",
      "per2                         1632.2       True\n",
      "tc2                            1391       True\n",
      "secosw2                    0.125848       True\n",
      "sesinw2                    0.792568       True\n",
      "k2                          5.81652       True\n",
      "dvdt                              0      False\n",
      "curv                              0      False\n",
      "gamma_j                     2.49741       True\n",
      "jit_j                       2.45016       True\n",
      "tp1                         13.5428           \n",
      "e1                            0.814           \n",
      "w1                            0.871           \n",
      "tp2                          1384.2           \n",
      "e2                         0.644001           \n",
      "w2                          1.41333           \n",
      "\n",
      "Priors\n",
      "------\n",
      "e1 constrained to be < 0.99\n",
      "e2 constrained to be < 0.99\n",
      "K constrained to be > 0\n",
      "Bounded prior on jit_j, min=0.0, max=10.0\n",
      "Gaussian prior on per1, mu=1600, sigma=400\n",
      "\n"
     ]
    }
   ],
   "source": [
    "post_candidate756 = pickle.load( open( \"../Radvel_MCMC/CandidateP756/CandidateP756_post_obj.pkl\", \"rb\" ) )\n",
    "print('P~756 days:')\n",
    "print(post_candidate756)\n",
    "\n",
    "post_candidate1632 = pickle.load( open( \"../Radvel_MCMC/CandidateP1632/CandidateP1632_post_obj.pkl\", \"rb\" ) )\n",
    "print('P~1632 days:')\n",
    "print(post_candidate1632)"
   ]
  },
  {
   "cell_type": "code",
   "execution_count": 4,
   "metadata": {},
   "outputs": [],
   "source": [
    "# define variables, all in cgs\n",
    "# for confirmed inner planet\n",
    "a = (31.5786/365)**(3/2.)*AU\n",
    "e = 0.814\n",
    "m = 48.6*Mearth\n",
    "\n",
    "# for outer candidate\n",
    "a_prime = (808.06/356)**(3/2.)*AU\n",
    "e_prime = 0.39\n",
    "m_prime = 0.1*m#0.1*m, 2*Mjup\n",
    "\n",
    "m0 = 1.03*Msun\n",
    "\n",
    "# define ratios\n",
    "alpha = a/a_prime\n",
    "gamma = m/m_prime\n",
    "mu = G*m0"
   ]
  },
  {
   "cell_type": "code",
   "execution_count": 5,
   "metadata": {},
   "outputs": [],
   "source": [
    "# define function to compute e_c\n",
    "def F_abs(ecc):\n",
    "    \"\"\"\n",
    "    returns absolute value of equation 35 in Laskar&Petit2017\n",
    "    this is so that the minimum will be when the function=0\n",
    "    \"\"\"\n",
    "    term1 = alpha*ecc\n",
    "    \n",
    "    top = gamma*ecc\n",
    "    bottom = np.sqrt(alpha*(1-ecc**2.)+gamma**2.*ecc**2.)\n",
    "    term2 = top/bottom\n",
    "    \n",
    "    return np.abs(term1+term2-1+alpha)"
   ]
  },
  {
   "cell_type": "code",
   "execution_count": 6,
   "metadata": {},
   "outputs": [],
   "source": [
    "# compute C/Gamma'\n",
    "curly_C = gamma*np.sqrt(alpha)*(1-np.sqrt(1-e**2.)) + (1-np.sqrt(1-e_prime**2.))\n",
    "\n",
    "# compute ec, ec'\n",
    "result = minimize(F_abs,0.5)\n",
    "e_c = result.x[0] # this is the part that should change!\n",
    "e_c_prime = 1 - alpha*(1+e_c)\n",
    "\n",
    "# compute Cc\n",
    "C_c = gamma*np.sqrt(alpha)*(1-np.sqrt(1-e_c**2.)) + (1-np.sqrt(1-e_c_prime**2.))"
   ]
  },
  {
   "cell_type": "code",
   "execution_count": 7,
   "metadata": {},
   "outputs": [
    {
     "name": "stdout",
     "output_type": "stream",
     "text": [
      "e_c results:\n",
      "      fun: 0.011050623506180853\n",
      " hess_inv: array([[1]])\n",
      "      jac: array([0.0080366])\n",
      "  message: 'Desired error not necessarily achieved due to precision loss.'\n",
      "     nfev: 144\n",
      "      nit: 0\n",
      "     njev: 70\n",
      "   status: 2\n",
      "  success: False\n",
      "        x: array([0.5])\n",
      "e_c:\n",
      "0.5\n",
      "e_c_prime:\n",
      "0.9888377729087272\n"
     ]
    }
   ],
   "source": [
    "# checks\n",
    "print('e_c results:')\n",
    "print(result) # 0<e<1, check for multiple x\n",
    "print('e_c:')\n",
    "print(e_c) # should be less than 1\n",
    "print('e_c_prime:')\n",
    "print(e_c_prime) # should be less than 1"
   ]
  },
  {
   "cell_type": "code",
   "execution_count": 8,
   "metadata": {},
   "outputs": [
    {
     "name": "stdout",
     "output_type": "stream",
     "text": [
      "beta =  0.45598914523556455\n",
      "system is AMD stable\n"
     ]
    }
   ],
   "source": [
    "# compute beta\n",
    "beta = curly_C/C_c\n",
    "print('beta = ', beta)\n",
    "if beta<1:\n",
    "    print('system is AMD stable')\n",
    "if beta>1:\n",
    "    print('system is NOT AMD stable')"
   ]
  },
  {
   "cell_type": "code",
   "execution_count": null,
   "metadata": {},
   "outputs": [],
   "source": []
  },
  {
   "cell_type": "code",
   "execution_count": 9,
   "metadata": {},
   "outputs": [],
   "source": [
    "# 1632d orbit: beta = 0.45 - 0.258\n",
    "# 808 day orbit: beta = 0.456 - 0.096"
   ]
  }
 ],
 "metadata": {
  "kernelspec": {
   "display_name": "Python 3",
   "language": "python",
   "name": "python3"
  },
  "language_info": {
   "codemirror_mode": {
    "name": "ipython",
    "version": 3
   },
   "file_extension": ".py",
   "mimetype": "text/x-python",
   "name": "python",
   "nbconvert_exporter": "python",
   "pygments_lexer": "ipython3",
   "version": "3.8.3"
  }
 },
 "nbformat": 4,
 "nbformat_minor": 4
}
