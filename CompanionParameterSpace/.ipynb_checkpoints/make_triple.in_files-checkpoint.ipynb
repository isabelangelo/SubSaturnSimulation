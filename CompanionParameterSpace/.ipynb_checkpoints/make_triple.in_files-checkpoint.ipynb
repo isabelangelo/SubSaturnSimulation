{
 "cells": [
  {
   "cell_type": "code",
   "execution_count": 1,
   "metadata": {},
   "outputs": [],
   "source": [
    "from generate_inicon_files import *"
   ]
  },
  {
   "cell_type": "code",
   "execution_count": 2,
   "metadata": {},
   "outputs": [],
   "source": [
    "# directory to store the files\n",
    "inicon_dir = '../SimulationFiles/Test2/IniCon'\n",
    "n_runs = 100\n",
    "\n",
    "# generate inicons\n",
    "inicons_list = []\n",
    "while len(inicons_list)<100:\n",
    "    i = initial_conditions()\n",
    "    if i is not None:\n",
    "        inicons_list.append(i)\n",
    "    else:\n",
    "        print('not found')"
   ]
  },
  {
   "cell_type": "code",
   "execution_count": 4,
   "metadata": {},
   "outputs": [],
   "source": [
    "# turn them into files\n",
    "for i in range(len(inicons_list)):\n",
    "    inicons = inicons_list[i]\n",
    "    create_file(inicons, inicon_dir, str(i))"
   ]
  },
  {
   "cell_type": "code",
   "execution_count": null,
   "metadata": {},
   "outputs": [],
   "source": []
  }
 ],
 "metadata": {
  "kernelspec": {
   "display_name": "Python 3",
   "language": "python",
   "name": "python3"
  },
  "language_info": {
   "codemirror_mode": {
    "name": "ipython",
    "version": 3
   },
   "file_extension": ".py",
   "mimetype": "text/x-python",
   "name": "python",
   "nbconvert_exporter": "python",
   "pygments_lexer": "ipython3",
   "version": "3.8.3"
  }
 },
 "nbformat": 4,
 "nbformat_minor": 4
}
