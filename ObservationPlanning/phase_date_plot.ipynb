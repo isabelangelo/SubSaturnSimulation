{
 "cells": [
  {
   "cell_type": "code",
   "execution_count": 1,
   "metadata": {},
   "outputs": [],
   "source": [
    "# note : predicted data point was actually from older observation\n",
    "# note : for the old model, it predicts the phases from 6/25,7/1,8/16\n",
    "# note : seems to also predict phases from recent observations\n",
    "\n",
    "# code now converts HST day to corresponding UTC time\n",
    "# 1) +1 day since we observe on next day at midnight\n",
    "# 2) +10:00:00 to convert to UTC\n"
   ]
  },
  {
   "cell_type": "code",
   "execution_count": 2,
   "metadata": {},
   "outputs": [],
   "source": [
    "import pickle\n",
    "import numpy as np\n",
    "from radvel.utils import t_to_phase\n",
    "from astropy.time import Time\n",
    "import matplotlib.pyplot as plt\n",
    "import pandas as pd\n",
    "\n",
    "with open('../MCMC_results/1PlanetLinearResults_LongerRun/1PlanetLinearResults_LongerRun_post_obj.pkl', 'rb') as f:\n",
    "    post = pickle.load(f)"
   ]
  },
  {
   "cell_type": "code",
   "execution_count": 3,
   "metadata": {},
   "outputs": [],
   "source": [
    "import numpy as np\n",
    "import pandas as pd\n",
    "from matplotlib import rcParams, gridspec\n",
    "from matplotlib import pyplot as pl\n",
    "from matplotlib.ticker import MaxNLocator\n",
    "from astropy.time import Time\n",
    "\n",
    "import radvel\n",
    "from radvel import plot\n",
    "from radvel.plot import mcmc_plots\n",
    "from radvel.plot import orbit_plots\n",
    "from radvel.utils import t_to_phase, fastbin, sigfig\n",
    "\n",
    "\n",
    "#RVPlot = orbit_plots.MultipanelPlot(post)\n",
    "RVPlot = orbit_plots.MultipanelPlot(post)\n",
    "def plot_phasefold(self, pltletter, pnum):\n",
    "        \"\"\"\n",
    "        Plot phased orbit plots for each planet in the fit.\n",
    "        Args:\n",
    "            pltletter (int): integer representation of \n",
    "                letter to be printed in the corner of the first\n",
    "                phase plot.\n",
    "                Ex: ord(\"a\") gives 97, so the input should be 97.\n",
    "            pnum (int): the number of the planet to be plotted. Must be\n",
    "                the same as the number used to define a planet's \n",
    "                Parameter objects (e.g. 'per1' is for planet #1)\n",
    "        \"\"\"\n",
    "\n",
    "        ax = pl.gca()\n",
    "\n",
    "        if len(self.post.likelihood.x) < 20: \n",
    "            self.nobin = True\n",
    "\n",
    "        bin_fac = 1.75\n",
    "        bin_markersize = bin_fac * rcParams['lines.markersize']\n",
    "        bin_markeredgewidth = bin_fac * rcParams['lines.markeredgewidth']\n",
    "\n",
    "        rvmod2 = self.model(self.rvmodt, planet_num=pnum) - self.slope\n",
    "        modph = t_to_phase(self.post.params, self.rvmodt, pnum, cat=True) - 1\n",
    "        rvdat = self.rawresid + self.model(self.rvtimes, planet_num=pnum) - self.slope_low\n",
    "        phase = t_to_phase(self.post.params, self.rvtimes, pnum, cat=True) - 1\n",
    "        rvdatcat = np.concatenate((rvdat, rvdat))\n",
    "        rverrcat = np.concatenate((self.rverr, self.rverr))\n",
    "        rvmod2cat = np.concatenate((rvmod2, rvmod2))\n",
    "        bint, bindat, binerr = fastbin(phase+1, rvdatcat, nbins=25)\n",
    "        bint -= 1.0\n",
    "\n",
    "        ax.axhline(0, color='0.5', linestyle='--', )\n",
    "        ax.plot(sorted(modph), rvmod2cat[np.argsort(modph)], 'b-', linewidth=self.fit_linewidth)\n",
    "        plot.labelfig(pltletter)\n",
    "\n",
    "        telcat = np.concatenate((self.post.likelihood.telvec, self.post.likelihood.telvec))\n",
    "\n",
    "        if self.highlight_last:\n",
    "            ind = np.argmax(self.rvtimes)\n",
    "            hphase = t_to_phase(self.post.params, self.rvtimes[ind], pnum, cat=False)\n",
    "            if hphase > 0.5:\n",
    "                hphase -= 1\n",
    "            pl.plot(hphase, rvdatcat[ind], **plot.highlight_format)\n",
    "\n",
    "#        plot.mtelplot(phase, rvdatcat, rverrcat, telcat, ax, telfmts=self.telfmts)\n",
    "#        if not self.nobin and len(rvdat) > 10: \n",
    "#            ax.errorbar(\n",
    "#                bint, bindat, yerr=binerr, fmt='ro', mec='w', ms=bin_markersize,\n",
    "#                mew=bin_markeredgewidth\n",
    "#            )\n",
    "\n",
    "        if self.phase_limits:\n",
    "            ax.set_xlim(self.phase_limits[0], self.phase_limits[1])\n",
    "        else:\n",
    "            ax.set_xlim(-2,2)\n",
    "            #ax.set_xlim(-0.5, 0.5)\n",
    "\n",
    "#        if not self.yscale_auto: \n",
    "#            scale = np.std(rvdatcat)\n",
    "#            ax.set_ylim(-self.yscale_sigma*scale, self.yscale_sigma*scale)\n",
    "        \n",
    "        keys = [p+str(pnum) for p in ['per', 'k', 'e']]\n",
    "\n",
    "        labels = [self.post.params.tex_labels().get(k, k) for k in keys]\n",
    "        if pnum < self.num_planets:\n",
    "            ticks = ax.yaxis.get_majorticklocs()\n",
    "            ax.yaxis.set_ticks(ticks[1:-1])\n",
    "\n",
    "        ax.set_ylabel('RV [{ms:}]'.format(**plot.latex), weight='bold')\n",
    "        ax.set_xlabel('Phase', weight='bold')\n",
    "\n",
    "        print_params = ['per', 'k', 'e']\n",
    "        units = {'per': 'days', 'k': plot.latex['ms'], 'e': ''}\n",
    "\n",
    "        anotext = []\n",
    "        for l, p in enumerate(print_params):\n",
    "            val = self.post.params[\"%s%d\" % (print_params[l], pnum)].value\n",
    "            \n",
    "            if self.uparams is None:\n",
    "                _anotext = r'$\\mathregular{%s}$ = %4.2f %s' % (labels[l].replace(\"$\", \"\"), val, units[p])\n",
    "            else:\n",
    "                if hasattr(self.post, 'medparams'):\n",
    "                    val = self.post.medparams[\"%s%d\" % (print_params[l], pnum)]\n",
    "                else:\n",
    "                    print(\"WARNING: medparams attribute not found in \" +\n",
    "                          \"posterior object will annotate with \" +\n",
    "                          \"max-likelihood values and reported uncertainties \" +\n",
    "                          \"may not be appropriate.\")\n",
    "                err = self.uparams[\"%s%d\" % (print_params[l], pnum)]\n",
    "                if err > 1e-15:\n",
    "                    val, err, errlow = sigfig(val, err)\n",
    "                    _anotext = r'$\\mathregular{%s}$ = %s $\\mathregular{\\pm}$ %s %s' \\\n",
    "                               % (labels[l].replace(\"$\", \"\"), val, err, units[p])\n",
    "                else:\n",
    "                    _anotext = r'$\\mathregular{%s}$ = %4.2f %s' % (labels[l].replace(\"$\", \"\"), val, units[p])\n",
    "\n",
    "            anotext += [_anotext]"
   ]
  },
  {
   "cell_type": "code",
   "execution_count": 4,
   "metadata": {},
   "outputs": [],
   "source": [
    "obs_times_jd = np.array([])\n",
    "obs_times_ymd = np.array([])\n",
    "dates = open('keck_dates.txt').readlines()\n",
    "dates = list(dict.fromkeys(dates))\n",
    "\n",
    "for date in dates: \n",
    "    # extract date\n",
    "    ds = date.split('-')\n",
    "    day, month, year = ds[0], ds[1], ds[2][:-1]\n",
    "    \n",
    "    # convert HST to UTC\n",
    "    obs_time_ymd = year+'-'+month+'-'+day+'T10:00:00' # +10:00:00 for UTC\n",
    "    obs_time_jd = Time(obs_time_ymd, format='isot', scale='utc').jd + 1 # +1 for midnight on next day\n",
    "    \n",
    "    # store values\n",
    "    obs_times_ymd = np.append(obs_times_ymd, obs_time_ymd)\n",
    "    obs_times_jd = np.append(obs_times_jd, obs_time_jd)\n",
    "\n",
    "\n",
    "phases  = t_to_phase(RVPlot.post.params, obs_times_jd, 1, cat=True) - 1\n",
    "obs_times_jd_cat = np.concatenate((obs_times_jd, obs_times_jd))\n",
    "obs_times_ymd_cat = np.concatenate((obs_times_ymd, obs_times_ymd))\n"
   ]
  },
  {
   "cell_type": "code",
   "execution_count": 7,
   "metadata": {},
   "outputs": [
    {
     "name": "stdout",
     "output_type": "stream",
     "text": [
      "0.08095837295756048 2020-09-24T10:00:00\n",
      "0.1126253425767072 2020-09-25T10:00:00\n",
      "0.14429231219585392 2020-09-26T10:00:00\n"
     ]
    },
    {
     "data": {
      "text/plain": [
       "<matplotlib.legend.Legend at 0x7f9a6d689fd0>"
      ]
     },
     "execution_count": 7,
     "metadata": {},
     "output_type": "execute_result"
    },
    {
     "data": {
      "image/png": "[encoded data removed]",
      "text/plain": [
       "<Figure size 1080x1080 with 1 Axes>"
      ]
     },
     "metadata": {
      "needs_background": "light"
     },
     "output_type": "display_data"
    }
   ],
   "source": [
    "import random\n",
    "plt.figure(figsize=(15,15))\n",
    "plt.subplot(211)\n",
    "plot_phasefold(RVPlot,ord('b'),1)\n",
    "\n",
    "#for phase in phases:\n",
    "#    plt.axvline(x=phase, linewidth=0.5,color='silver')\n",
    "\n",
    "\n",
    "for i in range(len(phases)):\n",
    "    phase_val = phases[i]\n",
    "    time_val = obs_times_ymd_cat[i]\n",
    "    if np.abs(phase_val) < 0.5:\n",
    "        if '2020-09-24' in time_val:\n",
    "            print(phase_val,time_val)\n",
    "            plt.axvline(x=phase_val, linewidth=0.5,color='red',label='2020-09-24')\n",
    "        elif '2020-09-25' in time_val:\n",
    "            print(phase_val,time_val)\n",
    "            plt.axvline(x=phase_val, linewidth=0.5,color='green',label='2020-09-25')\n",
    "        elif '2020-09-26' in time_val:\n",
    "            print(phase_val,time_val)\n",
    "            plt.axvline(x=phase_val, linewidth=0.5,color='blue',label='2020-09-26')\n",
    "\n",
    "#plt.xlim(-0.5,0.5)\n",
    "plt.legend()"
   ]
  },
  {
   "cell_type": "code",
   "execution_count": null,
   "metadata": {
    "scrolled": true
   },
   "outputs": [],
   "source": []
  },
  {
   "cell_type": "code",
   "execution_count": null,
   "metadata": {},
   "outputs": [],
   "source": [
    "\n"
   ]
  },
  {
   "cell_type": "code",
   "execution_count": null,
   "metadata": {},
   "outputs": [],
   "source": []
  },
  {
   "cell_type": "code",
   "execution_count": null,
   "metadata": {},
   "outputs": [],
   "source": []
  },
  {
   "cell_type": "code",
   "execution_count": null,
   "metadata": {},
   "outputs": [],
   "source": []
  },
  {
   "cell_type": "code",
   "execution_count": null,
   "metadata": {},
   "outputs": [],
   "source": []
  },
  {
   "cell_type": "code",
   "execution_count": null,
   "metadata": {},
   "outputs": [],
   "source": [
    " "
   ]
  },
  {
   "cell_type": "code",
   "execution_count": null,
   "metadata": {},
   "outputs": [],
   "source": []
  },
  {
   "cell_type": "code",
   "execution_count": null,
   "metadata": {},
   "outputs": [],
   "source": []
  },
  {
   "cell_type": "code",
   "execution_count": null,
   "metadata": {},
   "outputs": [],
   "source": []
  }
 ],
 "metadata": {
  "kernelspec": {
   "display_name": "Python 3",
   "language": "python",
   "name": "python3"
  },
  "language_info": {
   "codemirror_mode": {
    "name": "ipython",
    "version": 3
   },
   "file_extension": ".py",
   "mimetype": "text/x-python",
   "name": "python",
   "nbconvert_exporter": "python",
   "pygments_lexer": "ipython3",
   "version": "3.8.3"
  }
 },
 "nbformat": 4,
 "nbformat_minor": 4
}
