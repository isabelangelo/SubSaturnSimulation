{
 "cells": [
  {
   "cell_type": "code",
   "execution_count": null,
   "metadata": {},
   "outputs": [],
   "source": [
    "# to do : replace all the variables set to 1 with true values"
   ]
  },
  {
   "cell_type": "code",
   "execution_count": 3,
   "metadata": {},
   "outputs": [],
   "source": [
    "import numpy as np"
   ]
  },
  {
   "cell_type": "code",
   "execution_count": 2,
   "metadata": {},
   "outputs": [],
   "source": [
    "# define variables\n",
    "a = 1\n",
    "e = 1\n",
    "m = 1\n",
    "\n",
    "a_prime = 1\n",
    "e_prime = 1\n",
    "m_prime = 1\n",
    "\n",
    "G = 1\n",
    "m0 = 1\n",
    "\n",
    "# define ratios\n",
    "alpha = a/a_prime\n",
    "gamma = m/m_prime\n",
    "mu = G*m0"
   ]
  },
  {
   "cell_type": "code",
   "execution_count": 5,
   "metadata": {},
   "outputs": [],
   "source": [
    "# compute C/Gamma'\n",
    "curly_C = gamma*np.sqrt(alpha)*(1-np.sqrt(1-e**2.)) + (1-np.sqrt(1-e_prime**2.))\n",
    "\n",
    "# compute ec, ec'\n",
    "e_c = 1 # solve for this in wolfram alpha\n",
    "e_c_prime = 1 - alpha*(1+e_c)\n",
    "\n",
    "# compute Cc\n",
    "C_c = gamma*np.sqrt(alpha)*(1-np.sqrt(1-e_c**2.)) + (1-np.sqrt(1-e_c_prime**2.))"
   ]
  },
  {
   "cell_type": "code",
   "execution_count": 7,
   "metadata": {},
   "outputs": [
    {
     "name": "stdout",
     "output_type": "stream",
     "text": [
      "1.0\n"
     ]
    }
   ],
   "source": [
    "# compute beta\n",
    "beta = curly_C/C_c\n",
    "print(beta)"
   ]
  },
  {
   "cell_type": "code",
   "execution_count": null,
   "metadata": {},
   "outputs": [],
   "source": []
  }
 ],
 "metadata": {
  "kernelspec": {
   "display_name": "Python 3",
   "language": "python",
   "name": "python3"
  },
  "language_info": {
   "codemirror_mode": {
    "name": "ipython",
    "version": 3
   },
   "file_extension": ".py",
   "mimetype": "text/x-python",
   "name": "python",
   "nbconvert_exporter": "python",
   "pygments_lexer": "ipython3",
   "version": "3.8.3"
  }
 },
 "nbformat": 4,
 "nbformat_minor": 4
}
