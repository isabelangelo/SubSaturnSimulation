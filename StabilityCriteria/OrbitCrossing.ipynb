{
 "cells": [
  {
   "cell_type": "code",
   "execution_count": 1,
   "metadata": {},
   "outputs": [],
   "source": [
    "M = 1.03*Msun # mass of host"
   ]
  },
  {
   "cell_type": "code",
   "execution_count": 2,
   "metadata": {},
   "outputs": [],
   "source": [
    "def r_peri(P,e):\n",
    "    \"\"\"\n",
    "    :param P: planet period (days)\n",
    "    :param e: planet eccentricity\n",
    "    :return r_peri:planet periapse (AU)\n",
    "    \"\"\"\n",
    "    P_sec = P*24*3600\n",
    "    a3 = (P_sec**2.*G*M)/(4*pi*pi)\n",
    "    a = a3**(1/3.)\n",
    "    r_peri = a*(1-e)\n",
    "    return(r_peri/AU)\n",
    "\n",
    "def r_apo(P,e):\n",
    "    \"\"\"\n",
    "    :param P: planet period (days)\n",
    "    :param e: planet eccentricity\n",
    "    :return r_apo:planet apoapse (AU)\n",
    "    \"\"\"\n",
    "    P_sec = P*24*3600\n",
    "    a3 = (P_sec**2.*G*M)/(4*pi*pi)\n",
    "    a = a3**(1/3.)\n",
    "    r_apo = a*(1+e)\n",
    "    return(r_apo/AU)"
   ]
  },
  {
   "cell_type": "code",
   "execution_count": 3,
   "metadata": {},
   "outputs": [
    {
     "name": "stdout",
     "output_type": "stream",
     "text": [
      "inner planet apoapse: 0.35742343660103276\n"
     ]
    }
   ],
   "source": [
    "print('inner planet apoapse:', r_apo(31.58,0.81))"
   ]
  },
  {
   "cell_type": "code",
   "execution_count": 4,
   "metadata": {},
   "outputs": [
    {
     "name": "stdout",
     "output_type": "stream",
     "text": [
      "peri_173d 0.01928343770731523\n",
      "peri_204d 0.16634033178759608\n",
      "peri_397d 0.14732832887611674\n",
      "peri_756d 1.0459765353817418\n",
      "peri_1632d 0.9863880087263419\n"
     ]
    }
   ],
   "source": [
    "print('peri_173d', r_peri(185.46,0.97))\n",
    "print('peri_204d', r_peri(348.32,0.83))\n",
    "print('peri_397d', r_peri(434.18, 0.87))\n",
    "print('peri_756d', r_peri(808.06, 0.39))\n",
    "print('peri_1632d', r_peri(1632.20, 0.64))"
   ]
  },
  {
   "cell_type": "code",
   "execution_count": null,
   "metadata": {},
   "outputs": [],
   "source": []
  }
 ],
 "metadata": {
  "kernelspec": {
   "display_name": "Python 3",
   "language": "python",
   "name": "python3"
  },
  "language_info": {
   "codemirror_mode": {
    "name": "ipython",
    "version": 3
   },
   "file_extension": ".py",
   "mimetype": "text/x-python",
   "name": "python",
   "nbconvert_exporter": "python",
   "pygments_lexer": "ipython3",
   "version": "3.8.3"
  }
 },
 "nbformat": 4,
 "nbformat_minor": 4
}
