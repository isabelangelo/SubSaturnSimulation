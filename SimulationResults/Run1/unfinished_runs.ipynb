{
 "cells": [
  {
   "cell_type": "code",
   "execution_count": 14,
   "metadata": {},
   "outputs": [],
   "source": [
    "# now I feel like the nans aren't actually running to the right place- I inspected the ones that were \"finished\" \n",
    "# after the second run, and they didn't run to the right time \n",
    "# to do : turn this one into a .py script\n",
    "# to do : document this code better (see below)"
   ]
  },
  {
   "cell_type": "code",
   "execution_count": 15,
   "metadata": {},
   "outputs": [
    {
     "data": {
      "text/plain": [
       "\"\\nthe purpose of this code is to \\n(1) sort OSPE output files based on their end state\\n(2) determine which of the ones that survived aren't done running\\n(3) generate new triple.in files from those outputs (saved in unfinished_inicons/)\\n(4) move firstrun output files (saved in output_files/firstrun_files/)\\n\""
      ]
     },
     "execution_count": 15,
     "metadata": {},
     "output_type": "execute_result"
    }
   ],
   "source": [
    "\"\"\"\n",
    "the purpose of this code is to \n",
    "(1) sort OSPE output files based on their end state\n",
    "(2) determine which of the ones that survived aren't done running\n",
    "(3) generate new triple.in files from those outputs (saved in unfinished_inicons/)\n",
    "(4) move firstrun output files (saved in output_files/firstrun_files/)\n",
    "\"\"\""
   ]
  },
  {
   "cell_type": "code",
   "execution_count": 17,
   "metadata": {},
   "outputs": [
    {
     "name": "stdout",
     "output_type": "stream",
     "text": [
      "17 / 100 didn't survive\n",
      "78 / 100 survived\n",
      "5 / 100 produced error\n"
     ]
    }
   ],
   "source": [
    "from cgs import *\n",
    "from sort_OSPE_output import *\n",
    "from generate_initial_conditions import *"
   ]
  },
  {
   "cell_type": "code",
   "execution_count": 18,
   "metadata": {},
   "outputs": [],
   "source": [
    "# store names of files that didn't finish\n",
    "unfinished_filenames = []\n",
    "unfinished_numbers = []\n",
    "tmax = 7572018929.999999\n",
    "for fname in ones_and_twos:\n",
    "    lines = open(fname).readlines()\n",
    "    if len(lines)<5:\n",
    "        unfinished_filenames.append(fname)\n",
    "        unfinished_numbers.append(int(fname[20:-4]))"
   ]
  },
  {
   "cell_type": "code",
   "execution_count": 19,
   "metadata": {},
   "outputs": [
    {
     "name": "stdout",
     "output_type": "stream",
     "text": [
      "for prepare_unfinished_runs:\n",
      "11 46 40 97\n",
      "\n",
      "for RunNewOSPE_unfinishedruns:\n",
      "[11, 46, 40, 97]\n"
     ]
    }
   ],
   "source": [
    "# print files that didn't finish\n",
    "print('for prepare_unfinished_runs:')\n",
    "print(*unfinished_numbers, sep=' ')\n",
    "print('')\n",
    "print('for RunNewOSPE_unfinishedruns:')\n",
    "print(unfinished_numbers)"
   ]
  },
  {
   "cell_type": "code",
   "execution_count": 20,
   "metadata": {},
   "outputs": [
    {
     "ename": "FileExistsError",
     "evalue": "[Errno 17] File exists: 'unfinished_inicons'",
     "output_type": "error",
     "traceback": [
      "\u001b[0;31m---------------------------------------------------------------------------\u001b[0m",
      "\u001b[0;31mFileExistsError\u001b[0m                           Traceback (most recent call last)",
      "\u001b[0;32m<ipython-input-20-803edf6f8b07>\u001b[0m in \u001b[0;36m<module>\u001b[0;34m\u001b[0m\n\u001b[1;32m      1\u001b[0m \u001b[0;31m# generate new triple.in files\u001b[0m\u001b[0;34m\u001b[0m\u001b[0;34m\u001b[0m\u001b[0;34m\u001b[0m\u001b[0m\n\u001b[1;32m      2\u001b[0m \u001b[0;32mimport\u001b[0m \u001b[0mos\u001b[0m\u001b[0;34m\u001b[0m\u001b[0;34m\u001b[0m\u001b[0m\n\u001b[0;32m----> 3\u001b[0;31m \u001b[0mos\u001b[0m\u001b[0;34m.\u001b[0m\u001b[0mmkdir\u001b[0m\u001b[0;34m(\u001b[0m\u001b[0;34m'unfinished_inicons'\u001b[0m\u001b[0;34m)\u001b[0m\u001b[0;34m\u001b[0m\u001b[0;34m\u001b[0m\u001b[0m\n\u001b[0m\u001b[1;32m      4\u001b[0m \u001b[0;32mfor\u001b[0m \u001b[0mfilename\u001b[0m \u001b[0;32min\u001b[0m \u001b[0munfinished_filenames\u001b[0m\u001b[0;34m:\u001b[0m\u001b[0;34m\u001b[0m\u001b[0;34m\u001b[0m\u001b[0m\n\u001b[1;32m      5\u001b[0m \u001b[0;34m\u001b[0m\u001b[0m\n",
      "\u001b[0;31mFileExistsError\u001b[0m: [Errno 17] File exists: 'unfinished_inicons'"
     ]
    }
   ],
   "source": [
    "# generate new triple.in files\n",
    "import os\n",
    "os.mkdir('unfinished_inicons')\n",
    "for filename in unfinished_filenames:\n",
    "\n",
    "    # read in parameters from output file\n",
    "    last_line = open(filename).readlines()[-1].split('\\t')[:-1]\n",
    "    fp = [float(i) for i in last_line]\n",
    "    age =  6.31*1.2*1000 # time for simulation to run to\n",
    "    end_time = fp[2] # start time for simulation\n",
    "    e1,e2,a1,i,beta = fp[3], fp[4], fp[7], fp[10],fp[13]\n",
    "    print(fp[5],fp[6])\n",
    "    g1, g2 = np.rad2deg(fp[5]), np.rad2deg(fp[6])\n",
    "    m1,m2,a2,m3 = fp[21],fp[23],fp[25],fp[26]\n",
    "    R1, R2 = fp[22]*AU/Rsun, fp[24]*AU/Rsun # convert from AU to Rsun\n",
    "    beta2,gamma,gamma2 = fp[32], fp[33],fp[34]\n",
    "    \n",
    "    # compute spins from output\n",
    "    spin1h, spin1e, spin1q = fp[11], fp[15], fp[16]\n",
    "    spin2h, spin2e, spin2q = fp[19], fp[17], fp[18]\n",
    "    spin1P_radyr = np.sqrt(spin1h**2.+spin1e**2.+spin1q**2.)\n",
    "    spin2P_radyr = np.sqrt(spin2h**2.+spin2e**2.+spin2q**2.)\n",
    "    spin1P = 2.*pi*365.25/spin1P_radyr\n",
    "    spin2P = 2.*pi*365.25/spin2P_radyr\n",
    "    \n",
    "    final_conditions = np.array([m1,m2,m3,R1,R2,spin1P,spin2P,beta,beta2,gamma,gamma2,a1,a2,e1,e2,g1,g2,i,end_time,age])\n",
    "    \n",
    "    # write new triple.in file\n",
    "    file_end = str(filename[20:-4]) # store file number\n",
    "    create_file(final_conditions, 'unfinished_inicons', file_end, start_time = end_time, restart=True)"
   ]
  },
  {
   "cell_type": "code",
   "execution_count": 10,
   "metadata": {},
   "outputs": [],
   "source": [
    "# rename outputs to first run and move to new directory\n",
    "os.mkdir('output_files/firstrun_files')\n",
    "for n in unfinished_numbers:\n",
    "    old_filename = 'output_files/output_'+str(n)+'.txt'\n",
    "    new_filename = 'output_files/firstrun_files/output_'+str(n)+'.firstrun'+'.txt'\n",
    "    os.rename(old_filename, new_filename)"
   ]
  },
  {
   "cell_type": "code",
   "execution_count": 10,
   "metadata": {},
   "outputs": [
    {
     "name": "stdout",
     "output_type": "stream",
     "text": [
      "\u001b[34mfirstrun_files\u001b[m\u001b[m/     output_31.txt       output_56.txt       output_79.txt\r\n",
      "output_1.txt        output_32.txt       output_57.txt       output_8.txt\r\n",
      "output_10.txt       output_33.txt       output_58.txt       output_80.txt\r\n",
      "output_100.txt      output_34.txt       output_59.txt       output_81.txt\r\n",
      "output_12.txt       output_35.txt       output_6.txt        output_82.txt\r\n",
      "output_13.txt       output_36.txt       output_60.txt       output_83.txt\r\n",
      "output_14.txt       output_37.txt       output_61.txt       output_84.txt\r\n",
      "output_15.txt       output_38.txt       output_62.txt       output_85.txt\r\n",
      "output_16.txt       output_39.txt       output_63.txt       output_86.txt\r\n",
      "output_17.txt       output_4.txt        output_64.txt       output_87.txt\r\n",
      "output_18.txt       output_41.txt       output_65.txt       output_88.txt\r\n",
      "output_19.txt       output_42.txt       output_66.txt       output_89.txt\r\n",
      "output_2.txt        output_43.txt       output_67.txt       output_9.txt\r\n",
      "output_20.txt       output_44.txt       output_68.txt       output_90.txt\r\n",
      "output_21.txt       output_45.txt       output_69.txt       output_91.txt\r\n",
      "output_22.txt       output_47.txt       output_7.txt        output_92.txt\r\n",
      "output_23.txt       output_48.txt       output_70.txt       output_93.txt\r\n",
      "output_24.txt       output_49.txt       output_71.txt       output_94.txt\r\n",
      "output_25.txt       output_5.txt        output_72.txt       output_95.txt\r\n",
      "output_26.txt       output_50.txt       output_73.txt       output_96.txt\r\n",
      "output_27.txt       output_51.txt       output_74.txt       output_98.txt\r\n",
      "output_28.txt       output_52.txt       output_75.txt       output_99.txt\r\n",
      "output_29.txt       output_53.txt       output_76.txt       \u001b[34mrestart_output\u001b[m\u001b[m/\r\n",
      "output_3.txt        output_54.txt       output_77.txt       restart_output.tar\r\n",
      "output_30.txt       output_55.txt       output_78.txt       \u001b[34msecondrun_files\u001b[m\u001b[m/\r\n"
     ]
    }
   ],
   "source": [
    "ls output_files/"
   ]
  },
  {
   "cell_type": "code",
   "execution_count": null,
   "metadata": {},
   "outputs": [],
   "source": []
  },
  {
   "cell_type": "code",
   "execution_count": null,
   "metadata": {},
   "outputs": [],
   "source": []
  },
  {
   "cell_type": "code",
   "execution_count": null,
   "metadata": {},
   "outputs": [],
   "source": []
  },
  {
   "cell_type": "code",
   "execution_count": null,
   "metadata": {},
   "outputs": [],
   "source": []
  }
 ],
 "metadata": {
  "kernelspec": {
   "display_name": "Python 3",
   "language": "python",
   "name": "python3"
  },
  "language_info": {
   "codemirror_mode": {
    "name": "ipython",
    "version": 3
   },
   "file_extension": ".py",
   "mimetype": "text/x-python",
   "name": "python",
   "nbconvert_exporter": "python",
   "pygments_lexer": "ipython3",
   "version": "3.8.3"
  }
 },
 "nbformat": 4,
 "nbformat_minor": 2
}
