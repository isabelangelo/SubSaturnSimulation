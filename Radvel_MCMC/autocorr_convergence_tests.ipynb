{
 "cells": [
  {
   "cell_type": "code",
   "execution_count": 20,
   "metadata": {},
   "outputs": [],
   "source": [
    "# this is to confirm the convergence of the 1-planet MCMC chains"
   ]
  },
  {
   "cell_type": "code",
   "execution_count": 2,
   "metadata": {},
   "outputs": [],
   "source": [
    "import pandas as pd\n",
    "import matplotlib.pyplot as plt\n",
    "import emcee"
   ]
  },
  {
   "cell_type": "code",
   "execution_count": 14,
   "metadata": {},
   "outputs": [],
   "source": [
    "original_chains = pd.read_csv('1PlanetLinearResults/rho_constraints2_chains.csv.tar', index_col=0)\n",
    "long_chains = pd.read_csv('1PlanetLinearResults_LongerRun/1PlanetLinearResults_LongerRun_chains.csv.tar', index_col=0)\n",
    "unconverged_chains = pd.read_csv('../RV_mcmc_tests/Radvel_PhotoEcc/1planet_v1.4.1/rho_constraints1_chains.csv.bz2', index_col=0)"
   ]
  },
  {
   "cell_type": "code",
   "execution_count": 15,
   "metadata": {},
   "outputs": [
    {
     "name": "stdout",
     "output_type": "stream",
     "text": [
      "per1 [9.7686874]\n",
      "k1 [12.43171798]\n",
      "tc1 [9.56514426]\n",
      "dvdt [8.63284383]\n",
      "gamma_j [9.61699933]\n",
      "jit_j [8.78787069]\n",
      "secosw1 [11.24509514]\n",
      "sesinw1 [10.44766737]\n",
      "lnprobability [6.64678519]\n"
     ]
    }
   ],
   "source": [
    "for param in original_chains:\n",
    "    time_series = original_chains[param].to_numpy()\n",
    "    autocorr = emcee.autocorr.integrated_time(time_series)\n",
    "    print(param, autocorr)"
   ]
  },
  {
   "cell_type": "code",
   "execution_count": 16,
   "metadata": {},
   "outputs": [
    {
     "name": "stdout",
     "output_type": "stream",
     "text": [
      "per1 [10.5811348]\n",
      "k1 [15.64121568]\n",
      "tc1 [12.02740866]\n",
      "dvdt [10.78532748]\n",
      "gamma_j [9.76261829]\n",
      "jit_j [9.95220899]\n",
      "secosw1 [13.88017319]\n",
      "sesinw1 [13.11266121]\n",
      "lnprobability [9.43606444]\n"
     ]
    }
   ],
   "source": [
    "for param in long_chains:\n",
    "    time_series = long_chains[param].to_numpy()\n",
    "    autocorr = emcee.autocorr.integrated_time(time_series)\n",
    "    print(param, autocorr)"
   ]
  },
  {
   "cell_type": "code",
   "execution_count": 17,
   "metadata": {},
   "outputs": [
    {
     "name": "stdout",
     "output_type": "stream",
     "text": [
      "per1 [18.50425769]\n",
      "tc1 [22.53126044]\n",
      "secosw1 [70.51498034]\n",
      "sesinw1 [78.35947299]\n",
      "k1 [96.72835663]\n",
      "dvdt [19.89452434]\n",
      "gamma_j [35.04488676]\n",
      "jit_j [17.72253515]\n",
      "lnprobability [4.08395705]\n"
     ]
    }
   ],
   "source": [
    "for param in unconverged_chains:\n",
    "    time_series = unconverged_chains[param].to_numpy()\n",
    "    autocorr = emcee.autocorr.integrated_time(time_series)\n",
    "    print(param, autocorr)"
   ]
  },
  {
   "cell_type": "code",
   "execution_count": 18,
   "metadata": {},
   "outputs": [],
   "source": [
    "n_step = 1e4\n",
    "tk_unconverged = 189.28776801\n",
    "tk_converged = 12.43171798\n",
    "tk_converged_long = 15.64121568"
   ]
  },
  {
   "cell_type": "code",
   "execution_count": 19,
   "metadata": {},
   "outputs": [
    {
     "name": "stdout",
     "output_type": "stream",
     "text": [
      "52.82961548509412\n",
      "804.3940520600516\n",
      "639.336494335714\n"
     ]
    }
   ],
   "source": [
    "# print nstep/tcorr, must be larger than 50 for convergence\n",
    "print(n_step/tk_unconverged)\n",
    "print(n_step/tk_converged)\n",
    "print(n_step/tk_converged_long)"
   ]
  },
  {
   "cell_type": "code",
   "execution_count": null,
   "metadata": {},
   "outputs": [],
   "source": []
  }
 ],
 "metadata": {
  "kernelspec": {
   "display_name": "Python 3",
   "language": "python",
   "name": "python3"
  },
  "language_info": {
   "codemirror_mode": {
    "name": "ipython",
    "version": 3
   },
   "file_extension": ".py",
   "mimetype": "text/x-python",
   "name": "python",
   "nbconvert_exporter": "python",
   "pygments_lexer": "ipython3",
   "version": "3.8.3"
  }
 },
 "nbformat": 4,
 "nbformat_minor": 4
}
